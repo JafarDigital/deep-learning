{
 "cells": [
  {
   "cell_type": "markdown",
   "id": "a79c7eb9-2563-4590-a78c-2932028539a2",
   "metadata": {},
   "source": [
    "<h2>🔐 Regularisation?<h2>\n",
    "\n",
    "Regularisation adds a penalty to the loss function to discourage the model from relying too heavily on specific weights. This keeps the weights small and smooth, avoiding overly complex models that memorize training data.\n",
    "\n",
    "<img src=\"img/regularisation.png\" />"
   ]
  },
  {
   "cell_type": "code",
   "execution_count": 1,
   "id": "03914009-dc6d-4a57-8650-1c6a07880bf3",
   "metadata": {},
   "outputs": [
    {
     "name": "stderr",
     "output_type": "stream",
     "text": [
      "2025-06-16 11:39:43.882782: E external/local_xla/xla/stream_executor/cuda/cuda_fft.cc:485] Unable to register cuFFT factory: Attempting to register factory for plugin cuFFT when one has already been registered\n",
      "2025-06-16 11:39:44.015458: E external/local_xla/xla/stream_executor/cuda/cuda_dnn.cc:8454] Unable to register cuDNN factory: Attempting to register factory for plugin cuDNN when one has already been registered\n",
      "2025-06-16 11:39:44.035488: E external/local_xla/xla/stream_executor/cuda/cuda_blas.cc:1452] Unable to register cuBLAS factory: Attempting to register factory for plugin cuBLAS when one has already been registered\n",
      "2025-06-16 11:39:44.363011: I tensorflow/core/platform/cpu_feature_guard.cc:210] This TensorFlow binary is optimized to use available CPU instructions in performance-critical operations.\n",
      "To enable the following instructions: AVX2 FMA, in other operations, rebuild TensorFlow with the appropriate compiler flags.\n",
      "2025-06-16 11:39:47.269863: W tensorflow/compiler/tf2tensorrt/utils/py_utils.cc:38] TF-TRT Warning: Could not find TensorRT\n"
     ]
    },
    {
     "name": "stdout",
     "output_type": "stream",
     "text": [
      "\u001b[1m32/32\u001b[0m \u001b[32m━━━━━━━━━━━━━━━━━━━━\u001b[0m\u001b[37m\u001b[0m \u001b[1m0s\u001b[0m 3ms/step - accuracy: 0.8857 - loss: 0.5586\n",
      "Final Accuracy: 0.88\n"
     ]
    }
   ],
   "source": [
    "import tensorflow as tf\n",
    "from tensorflow.keras.models import Sequential\n",
    "from tensorflow.keras.layers import Dense\n",
    "from tensorflow.keras.regularizers import l2\n",
    "\n",
    "model = Sequential([\n",
    "    tf.keras.Input(shape=(2,)),\n",
    "    Dense(8, activation='relu', kernel_regularizer=l2(0.01)), # total loss becomes original loss + lambda * sum(W ** 2)\n",
    "    Dense(1, activation='sigmoid', kernel_regularizer=l2(0.01))\n",
    "])\n",
    "\n",
    "model.compile(optimizer='adam', loss='binary_crossentropy', metrics=['accuracy'])\n",
    "\n",
    "import numpy as np\n",
    "X = np.random.randn(1000, 2)\n",
    "y = (X[:, 0] * X[:, 1] > 0).astype(int)\n",
    "\n",
    "history = model.fit(X, y, epochs=30, batch_size=32, verbose=0)\n",
    "\n",
    "loss, acc = model.evaluate(X, y)\n",
    "print(f\"Final Accuracy: {acc:.2f}\")"
   ]
  },
  {
   "cell_type": "markdown",
   "id": "7f841577-bbd4-4162-9944-b9a70aaa8e67",
   "metadata": {},
   "source": [
    "<h3>Dropout example</h3>"
   ]
  },
  {
   "cell_type": "code",
   "execution_count": 2,
   "id": "c4a4ed7b-0426-494b-8738-254a0ff8fc80",
   "metadata": {},
   "outputs": [],
   "source": [
    "from tensorflow.keras.layers import Dropout\n",
    "\n",
    "model = Sequential([\n",
    "    tf.keras.Input(shape=(2,)),\n",
    "    Dense(8, activation='relu'),\n",
    "    Dropout(0.3), # reducing dependency on specific neurons\n",
    "    Dense(1, activation='sigmoid')\n",
    "])"
   ]
  },
  {
   "cell_type": "code",
   "execution_count": null,
   "id": "bdab7ce4-abdb-449d-9773-b36be994ea92",
   "metadata": {},
   "outputs": [],
   "source": []
  }
 ],
 "metadata": {
  "kernelspec": {
   "display_name": "Python 3 (ipykernel)",
   "language": "python",
   "name": "python3"
  },
  "language_info": {
   "codemirror_mode": {
    "name": "ipython",
    "version": 3
   },
   "file_extension": ".py",
   "mimetype": "text/x-python",
   "name": "python",
   "nbconvert_exporter": "python",
   "pygments_lexer": "ipython3",
   "version": "3.12.9"
  }
 },
 "nbformat": 4,
 "nbformat_minor": 5
}
