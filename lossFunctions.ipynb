{
 "cells": [
  {
   "cell_type": "markdown",
   "id": "ef50ca4e-a961-4a8c-b011-6e8e3396a3b8",
   "metadata": {},
   "source": [
    "<h2>Loss + Activation Functions (Manual)</h2>\n",
    "\n",
    "<b>Note: </b>Inputs of \"predictions\" and \"true values\" are hard-coded, here we are doing manual forward passes only.\n",
    "\n",
    "    z (logits) → activation → prediction → loss function → scalar loss\n",
    "\n",
    "<img src=\"img/activation.jpeg\" />"
   ]
  },
  {
   "cell_type": "code",
   "execution_count": 5,
   "id": "218cdade-5007-40a9-b62f-d02d6fe7c9a1",
   "metadata": {},
   "outputs": [],
   "source": [
    "import numpy as np\n",
    "\n",
    "def sigmoid(x):\n",
    "    return 1 / (1 + np.exp(-x))\n",
    "\n",
    "def sigmoid_deriative(x):\n",
    "    s = sigmoid(x)\n",
    "    return s * (1 - s)\n",
    "\n",
    "def softmax(x):\n",
    "    exps = np.exp(x - np.max(x))\n",
    "    return exps / np.sum(exps, axis=0)\n",
    "\n",
    "def linear(x):\n",
    "    return x"
   ]
  },
  {
   "cell_type": "markdown",
   "id": "b2310cc8-a2ed-425d-bb16-5649370b4dac",
   "metadata": {},
   "source": [
    "<img src=\"img/binary_cat_entropy.png\" />"
   ]
  },
  {
   "cell_type": "code",
   "execution_count": 6,
   "id": "955f1b15-7591-4ed6-b625-9d4fde872a86",
   "metadata": {},
   "outputs": [],
   "source": [
    "def binary_cross_entropy(y_true, y_pred, epsilon=1e-8):\n",
    "    y_pred = np.clip(y_pred, epsilon, 1 - epsilon)\n",
    "    return -np.mean(y_true * np.log(y_pred)) + (1 - y_true) * np.log(1 - y_pred)\n",
    "\n",
    "def categorical_cross_entropy(y_true, y_pred, epsilon=1e-8):\n",
    "    y_pred = np.clip(y_pred, epsilon, 1- epsilon)\n",
    "    return -np.sum(y_true * np.log(y_pred))"
   ]
  },
  {
   "cell_type": "markdown",
   "id": "e458ca1a-d645-4b0b-8e6c-99b5e0435442",
   "metadata": {},
   "source": [
    "<img src=\"img/mse_mae.png\" />"
   ]
  },
  {
   "cell_type": "code",
   "execution_count": 7,
   "id": "e89b0568-6782-4f7d-8183-393e45cc9107",
   "metadata": {},
   "outputs": [],
   "source": [
    "def mean_squared_error(y_true, y_pred):\n",
    "    return np.mean((y_true - y_pred) ** 2)\n",
    "\n",
    "def mean_absolute_error(y_true, y_pred):\n",
    "    y_true = np.array(y_true)\n",
    "    y_pred = np.array(y_pred)\n",
    "    absolute_errors = np.abs(y_true - y_pred)\n",
    "    mae = np.mean(absolute_errors)\n",
    "    return mae\n"
   ]
  },
  {
   "cell_type": "code",
   "execution_count": 2,
   "id": "0e5027ac-00b1-4879-917f-6fe7e1f4c93c",
   "metadata": {},
   "outputs": [
    {
     "name": "stdout",
     "output_type": "stream",
     "text": [
      "Binary cross-entropy loss: [-0.81584874  0.03850651 -0.27475518]\n"
     ]
    }
   ],
   "source": [
    "z = np.array([0.3, 2.1, -1.0])\n",
    "y_true = np.array([0, 1, 0])\n",
    "\n",
    "y_pred = sigmoid(z)\n",
    "\n",
    "loss = binary_cross_entropy(y_true, y_pred)\n",
    "print(\"Binary cross-entropy loss:\", loss)"
   ]
  },
  {
   "cell_type": "code",
   "execution_count": 3,
   "id": "998bbbe4-160c-4b02-93a9-b962c6ca3dfa",
   "metadata": {},
   "outputs": [
    {
     "name": "stdout",
     "output_type": "stream",
     "text": [
      "Categorical cross-entropy loss: 0.5388943013612834\n"
     ]
    }
   ],
   "source": [
    "logits = np.array([1.5, 0.3, 2.1])\n",
    "y_true_cat = np.array([0, 0, 1])\n",
    "\n",
    "y_pred_cat = softmax(logits)\n",
    "\n",
    "loss_cat = categorical_cross_entropy(y_true_cat, y_pred_cat)\n",
    "print(\"Categorical cross-entropy loss:\", loss_cat)"
   ]
  },
  {
   "cell_type": "code",
   "execution_count": 4,
   "id": "66acaf75-bd3b-4441-9903-232f584b6cad",
   "metadata": {},
   "outputs": [
    {
     "name": "stdout",
     "output_type": "stream",
     "text": [
      "MSE Loss: 0.10000000000000003\n"
     ]
    }
   ],
   "source": [
    "y_pred_reg = np.array([3.2, 2.5, 1.1])\n",
    "y_true_reg = np.array([3.0, 2.0, 1.0])\n",
    "\n",
    "loss_reg = mean_squared_error(y_true_reg, y_pred_reg)\n",
    "print(\"MSE Loss:\", loss_reg)"
   ]
  },
  {
   "cell_type": "code",
   "execution_count": null,
   "id": "40de3dc8-0d8d-4685-b261-6ba5187cb041",
   "metadata": {},
   "outputs": [],
   "source": []
  }
 ],
 "metadata": {
  "kernelspec": {
   "display_name": "Python 3 (ipykernel)",
   "language": "python",
   "name": "python3"
  },
  "language_info": {
   "codemirror_mode": {
    "name": "ipython",
    "version": 3
   },
   "file_extension": ".py",
   "mimetype": "text/x-python",
   "name": "python",
   "nbconvert_exporter": "python",
   "pygments_lexer": "ipython3",
   "version": "3.12.9"
  }
 },
 "nbformat": 4,
 "nbformat_minor": 5
}
