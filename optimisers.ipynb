{
 "cells": [
  {
   "cell_type": "markdown",
   "id": "ab4cd49a-6775-40ce-953d-affeeba0d4bd",
   "metadata": {},
   "source": [
    "<h2>⚙️ Optimisers</h2>\n",
    "\n",
    "An optimiser updates the model’s parameters (weights & biases) to minimize the loss function by applying gradients during backpropagation.\n",
    "\n",
    "Optimisers are central to learning.\n",
    "\n",
    "Adam is the default for most problems.\n",
    "\n",
    "<img src=\"img/optimisers.png\" />"
   ]
  },
  {
   "cell_type": "code",
   "execution_count": 1,
   "id": "8f9d9857-ba2b-4822-bca4-8f124c212179",
   "metadata": {},
   "outputs": [
    {
     "name": "stderr",
     "output_type": "stream",
     "text": [
      "2025-06-16 11:01:35.321439: E external/local_xla/xla/stream_executor/cuda/cuda_fft.cc:485] Unable to register cuFFT factory: Attempting to register factory for plugin cuFFT when one has already been registered\n",
      "2025-06-16 11:01:35.533678: E external/local_xla/xla/stream_executor/cuda/cuda_dnn.cc:8454] Unable to register cuDNN factory: Attempting to register factory for plugin cuDNN when one has already been registered\n",
      "2025-06-16 11:01:35.563892: E external/local_xla/xla/stream_executor/cuda/cuda_blas.cc:1452] Unable to register cuBLAS factory: Attempting to register factory for plugin cuBLAS when one has already been registered\n",
      "2025-06-16 11:01:35.840620: I tensorflow/core/platform/cpu_feature_guard.cc:210] This TensorFlow binary is optimized to use available CPU instructions in performance-critical operations.\n",
      "To enable the following instructions: AVX2 FMA, in other operations, rebuild TensorFlow with the appropriate compiler flags.\n",
      "2025-06-16 11:01:38.777297: W tensorflow/compiler/tf2tensorrt/utils/py_utils.cc:38] TF-TRT Warning: Could not find TensorRT\n"
     ]
    }
   ],
   "source": [
    "import tensorflow as tf\n",
    "from tensorflow.keras.models import Sequential\n",
    "from tensorflow.keras.layers import Dense\n",
    "from tensorflow.keras.optimizers import SGD, RMSprop, Adam\n",
    "import numpy as np\n",
    "\n",
    "X = np.random.randn(1000, 2)\n",
    "y = (X[:, 0] * X[:, 1] > 0).astype(int)\n",
    "\n",
    "def create_model():\n",
    "    model = Sequential([\n",
    "        tf.keras.Input(shape=(2,)),\n",
    "        Dense(8, activation='relu'),\n",
    "        Dense(1, activation='sigmoid')\n",
    "    ])\n",
    "    return model"
   ]
  },
  {
   "cell_type": "code",
   "execution_count": 3,
   "id": "0d19e665-3e01-4985-ac88-2784e30c4677",
   "metadata": {},
   "outputs": [
    {
     "name": "stdout",
     "output_type": "stream",
     "text": [
      "SGD: [0.184417262673378, 0.9829999804496765]\n",
      "RMSprop: [0.08378870040178299, 0.9850000143051147]\n",
      "Adam: [0.08397205919027328, 0.9869999885559082]\n"
     ]
    }
   ],
   "source": [
    "model_sgd = create_model()\n",
    "model_sgd.compile(optimizer=SGD(learning_rate=0.1), loss='binary_crossentropy', metrics=['accuracy'])\n",
    "model_sgd.fit(X, y, epochs=20, verbose=0)\n",
    "print(\"SGD:\", model_sgd.evaluate(X, y, verbose=0))\n",
    "\n",
    "model_rms = create_model()\n",
    "model_rms.compile(optimizer=RMSprop(learning_rate=0.01), loss='binary_crossentropy', metrics=['accuracy'])\n",
    "model_rms.fit(X, y, epochs=20, verbose=0)\n",
    "print(\"RMSprop:\", model_rms.evaluate(X, y, verbose=0))\n",
    "\n",
    "model_adam = create_model()\n",
    "model_adam.compile(optimizer=Adam(learning_rate=0.01), loss='binary_crossentropy', metrics=['accuracy'])\n",
    "model_adam.fit(X, y, epochs=20, verbose=0)\n",
    "print(\"Adam:\", model_adam.evaluate(X, y, verbose=0))"
   ]
  },
  {
   "cell_type": "code",
   "execution_count": null,
   "id": "a7c34c72-24af-436e-b6c3-cfc0919e425d",
   "metadata": {},
   "outputs": [],
   "source": []
  }
 ],
 "metadata": {
  "kernelspec": {
   "display_name": "Python 3 (ipykernel)",
   "language": "python",
   "name": "python3"
  },
  "language_info": {
   "codemirror_mode": {
    "name": "ipython",
    "version": 3
   },
   "file_extension": ".py",
   "mimetype": "text/x-python",
   "name": "python",
   "nbconvert_exporter": "python",
   "pygments_lexer": "ipython3",
   "version": "3.12.9"
  }
 },
 "nbformat": 4,
 "nbformat_minor": 5
}
